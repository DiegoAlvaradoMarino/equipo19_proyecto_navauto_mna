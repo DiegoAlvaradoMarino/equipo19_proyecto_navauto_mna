{
 "cells": [
  {
   "cell_type": "markdown",
   "metadata": {
    "id": "Muo-PtqgUZ9B"
   },
   "source": [
    "# Entrenamiendo de Red Neuronal Convolucional (NVIDIA Model) - Behavioral Cloning\n",
    "\n",
    "## Navegación Autónoma - MNA\n",
    "## Equipo 19\n",
    "\n",
    "- Diego Alvarado Marino - A01795687\n",
    "- Gabriel Sareñana Labra - A01795507\n",
    "- Enrique Correa Herrerías - A01332620\n",
    "- Leonardo Javier Nava Castellanos - A01750595"
   ]
  },
  {
   "cell_type": "markdown",
   "metadata": {
    "id": "AvR7el2NRfvf"
   },
   "source": [
    "## **Clonando repositorio con las imagenes**"
   ]
  },
  {
   "cell_type": "code",
   "execution_count": null,
   "metadata": {
    "colab": {
     "base_uri": "https://localhost:8080/"
    },
    "executionInfo": {
     "elapsed": 20780,
     "status": "ok",
     "timestamp": 1750606360629,
     "user": {
      "displayName": "Diego Alvarado Marino",
      "userId": "02323363341284917675"
     },
     "user_tz": 360
    },
    "id": "5GKpySjGUgZL",
    "outputId": "1b46bbef-d327-4b93-ab93-6c7acaecf1dd"
   },
   "outputs": [
    {
     "name": "stdout",
     "output_type": "stream",
     "text": [
      "Cloning into 'equipo19_proyecto_navauto_mna'...\n",
      "remote: Enumerating objects: 19089, done.\u001b[K\n",
      "remote: Total 19089 (delta 0), reused 0 (delta 0), pack-reused 19089 (from 1)\u001b[K\n",
      "Receiving objects: 100% (19089/19089), 227.18 MiB | 15.11 MiB/s, done.\n",
      "Resolving deltas: 100% (570/570), done.\n",
      "Updating files: 100% (19085/19085), done.\n"
     ]
    }
   ],
   "source": [
    "!git clone https://github.com/DiegoAlvaradoMarino/equipo19_proyecto_navauto_mna.git"
   ]
  },
  {
   "cell_type": "code",
   "execution_count": null,
   "metadata": {
    "colab": {
     "base_uri": "https://localhost:8080/"
    },
    "executionInfo": {
     "elapsed": 5,
     "status": "ok",
     "timestamp": 1750606374143,
     "user": {
      "displayName": "Diego Alvarado Marino",
      "userId": "02323363341284917675"
     },
     "user_tz": 360
    },
    "id": "eXXI6ZgxUv6L",
    "outputId": "abb7e59e-406c-4b73-c09a-6ab3608aa2f3"
   },
   "outputs": [
    {
     "name": "stdout",
     "output_type": "stream",
     "text": [
      "/content/equipo19_proyecto_navauto_mna\n"
     ]
    }
   ],
   "source": [
    "%cd equipo19_proyecto_navauto_mna/"
   ]
  },
  {
   "cell_type": "code",
   "execution_count": null,
   "metadata": {
    "colab": {
     "base_uri": "https://localhost:8080/"
    },
    "executionInfo": {
     "elapsed": 101,
     "status": "ok",
     "timestamp": 1750606377229,
     "user": {
      "displayName": "Diego Alvarado Marino",
      "userId": "02323363341284917675"
     },
     "user_tz": 360
    },
    "id": "4_UGPtw7U7Ei",
    "outputId": "4f3102e9-33c8-433c-cc7f-a5c00678fe40"
   },
   "outputs": [
    {
     "name": "stdout",
     "output_type": "stream",
     "text": [
      "\u001b[0m\u001b[01;34mimages_data\u001b[0m/\n"
     ]
    }
   ],
   "source": [
    "%ls"
   ]
  },
  {
   "cell_type": "markdown",
   "metadata": {
    "id": "8Zz3ffAaUZ9E"
   },
   "source": [
    "## **Librerías e instalaciones requeridas**"
   ]
  },
  {
   "cell_type": "code",
   "execution_count": null,
   "metadata": {
    "ExecuteTime": {
     "end_time": "2024-06-22T22:44:35.721086Z",
     "start_time": "2024-06-22T22:44:31.831632Z"
    },
    "id": "-7Cw4PgHUZ9F"
   },
   "outputs": [],
   "source": [
    "import os\n",
    "import random\n",
    "import numpy as np\n",
    "import pandas as pd\n",
    "import cv2\n",
    "import matplotlib.pyplot as plt\n",
    "import tensorflow as tf\n",
    "from sklearn.utils import shuffle\n",
    "from sklearn.model_selection import train_test_split\n",
    "from keras.models import Sequential, load_model\n",
    "from keras.layers import Dense, Conv2D, Dropout, Flatten, Lambda\n",
    "from keras.optimizers import Adam\n",
    "from pathlib import Path"
   ]
  },
  {
   "cell_type": "markdown",
   "metadata": {
    "id": "852lbnFsSN-k"
   },
   "source": [
    "## **Verificando que hay GPU disponible**"
   ]
  },
  {
   "cell_type": "code",
   "execution_count": null,
   "metadata": {
    "ExecuteTime": {
     "end_time": "2024-06-22T22:44:35.813345Z",
     "start_time": "2024-06-22T22:44:35.723087Z"
    },
    "colab": {
     "base_uri": "https://localhost:8080/"
    },
    "executionInfo": {
     "elapsed": 29,
     "status": "ok",
     "timestamp": 1750606585971,
     "user": {
      "displayName": "Diego Alvarado Marino",
      "userId": "02323363341284917675"
     },
     "user_tz": 360
    },
    "id": "h85fbWGMUZ9G",
    "outputId": "efe63ee7-2110-4e6a-b544-bae7d8aa1320"
   },
   "outputs": [
    {
     "name": "stdout",
     "output_type": "stream",
     "text": [
      "GPU detectada: /physical_device:GPU:0\n"
     ]
    }
   ],
   "source": [
    "import tensorflow as tf\n",
    "gpus = tf.config.list_physical_devices('GPU')\n",
    "if gpus:\n",
    "    print(f\"GPU detectada: {gpus[0].name}\")\n",
    "else:\n",
    "    print(\"No se detectó ninguna GPU.\")\n"
   ]
  },
  {
   "cell_type": "markdown",
   "metadata": {
    "id": "8jSlRfLYSYRt"
   },
   "source": [
    "## **Parametros para procesamiento**"
   ]
  },
  {
   "cell_type": "code",
   "execution_count": null,
   "metadata": {
    "ExecuteTime": {
     "end_time": "2024-06-22T22:44:35.829360Z",
     "start_time": "2024-06-22T22:44:35.815344Z"
    },
    "id": "rWnUFgy2UZ9I"
   },
   "outputs": [],
   "source": [
    "# Parametro de tamaño de imagenes\n",
    "image_size = (200,66)"
   ]
  },
  {
   "cell_type": "markdown",
   "metadata": {
    "id": "umatjtwkUZ9I"
   },
   "source": [
    "## **Cargamos el dataset \"image_records.csv\"**"
   ]
  },
  {
   "cell_type": "code",
   "execution_count": null,
   "metadata": {
    "ExecuteTime": {
     "end_time": "2024-06-22T22:44:35.861344Z",
     "start_time": "2024-06-22T22:44:35.831345Z"
    },
    "colab": {
     "base_uri": "https://localhost:8080/",
     "height": 423
    },
    "executionInfo": {
     "elapsed": 137,
     "status": "ok",
     "timestamp": 1750606758506,
     "user": {
      "displayName": "Diego Alvarado Marino",
      "userId": "02323363341284917675"
     },
     "user_tz": 360
    },
    "id": "wqYAKXwmUZ9I",
    "outputId": "776720e0-8bb1-4f25-f43b-cc62853987cd"
   },
   "outputs": [
    {
     "data": {
      "application/vnd.google.colaboratory.intrinsic+json": {
       "summary": "{\n  \"name\": \"images_records_df\",\n  \"rows\": 19084,\n  \"fields\": [\n    {\n      \"column\": \"Image Name\",\n      \"properties\": {\n        \"dtype\": \"string\",\n        \"num_unique_values\": 19084,\n        \"samples\": [\n          \"images\\\\DAM-2025-06-22_00-03-18920.png\",\n          \"images\\\\DAM-2025-06-21_23-26-6933.png\",\n          \"images\\\\DAM-2025-06-21_23-17-351.png\"\n        ],\n        \"semantic_type\": \"\",\n        \"description\": \"\"\n      }\n    },\n    {\n      \"column\": \"Steering Angle\",\n      \"properties\": {\n        \"dtype\": \"number\",\n        \"std\": 0.2207611608844036,\n        \"min\": -0.741180419921875,\n        \"max\": 0.999969482421875,\n        \"num_unique_values\": 199,\n        \"samples\": [\n          0.435272216796875,\n          0.2235107421875,\n          0.999969482421875\n        ],\n        \"semantic_type\": \"\",\n        \"description\": \"\"\n      }\n    }\n  ]\n}",
       "type": "dataframe",
       "variable_name": "images_records_df"
      },
      "text/html": [
       "\n",
       "  <div id=\"df-834b9a82-22d6-4f27-8292-9e590fcedd47\" class=\"colab-df-container\">\n",
       "    <div>\n",
       "<style scoped>\n",
       "    .dataframe tbody tr th:only-of-type {\n",
       "        vertical-align: middle;\n",
       "    }\n",
       "\n",
       "    .dataframe tbody tr th {\n",
       "        vertical-align: top;\n",
       "    }\n",
       "\n",
       "    .dataframe thead th {\n",
       "        text-align: right;\n",
       "    }\n",
       "</style>\n",
       "<table border=\"1\" class=\"dataframe\">\n",
       "  <thead>\n",
       "    <tr style=\"text-align: right;\">\n",
       "      <th></th>\n",
       "      <th>Image Name</th>\n",
       "      <th>Steering Angle</th>\n",
       "    </tr>\n",
       "  </thead>\n",
       "  <tbody>\n",
       "    <tr>\n",
       "      <th>0</th>\n",
       "      <td>images\\DAM-2025-06-21_23-17-0.png</td>\n",
       "      <td>0.000000</td>\n",
       "    </tr>\n",
       "    <tr>\n",
       "      <th>1</th>\n",
       "      <td>images\\DAM-2025-06-21_23-17-1.png</td>\n",
       "      <td>0.000000</td>\n",
       "    </tr>\n",
       "    <tr>\n",
       "      <th>2</th>\n",
       "      <td>images\\DAM-2025-06-21_23-17-2.png</td>\n",
       "      <td>0.000000</td>\n",
       "    </tr>\n",
       "    <tr>\n",
       "      <th>3</th>\n",
       "      <td>images\\DAM-2025-06-21_23-17-3.png</td>\n",
       "      <td>0.000000</td>\n",
       "    </tr>\n",
       "    <tr>\n",
       "      <th>4</th>\n",
       "      <td>images\\DAM-2025-06-21_23-17-4.png</td>\n",
       "      <td>0.000000</td>\n",
       "    </tr>\n",
       "    <tr>\n",
       "      <th>...</th>\n",
       "      <td>...</td>\n",
       "      <td>...</td>\n",
       "    </tr>\n",
       "    <tr>\n",
       "      <th>19079</th>\n",
       "      <td>images\\DAM-2025-06-22_00-03-19079.png</td>\n",
       "      <td>0.058807</td>\n",
       "    </tr>\n",
       "    <tr>\n",
       "      <th>19080</th>\n",
       "      <td>images\\DAM-2025-06-22_00-03-19080.png</td>\n",
       "      <td>0.058807</td>\n",
       "    </tr>\n",
       "    <tr>\n",
       "      <th>19081</th>\n",
       "      <td>images\\DAM-2025-06-22_00-03-19081.png</td>\n",
       "      <td>0.000000</td>\n",
       "    </tr>\n",
       "    <tr>\n",
       "      <th>19082</th>\n",
       "      <td>images\\DAM-2025-06-22_00-03-19082.png</td>\n",
       "      <td>0.000000</td>\n",
       "    </tr>\n",
       "    <tr>\n",
       "      <th>19083</th>\n",
       "      <td>images\\DAM-2025-06-22_00-03-19083.png</td>\n",
       "      <td>0.000000</td>\n",
       "    </tr>\n",
       "  </tbody>\n",
       "</table>\n",
       "<p>19084 rows × 2 columns</p>\n",
       "</div>\n",
       "    <div class=\"colab-df-buttons\">\n",
       "\n",
       "  <div class=\"colab-df-container\">\n",
       "    <button class=\"colab-df-convert\" onclick=\"convertToInteractive('df-834b9a82-22d6-4f27-8292-9e590fcedd47')\"\n",
       "            title=\"Convert this dataframe to an interactive table.\"\n",
       "            style=\"display:none;\">\n",
       "\n",
       "  <svg xmlns=\"http://www.w3.org/2000/svg\" height=\"24px\" viewBox=\"0 -960 960 960\">\n",
       "    <path d=\"M120-120v-720h720v720H120Zm60-500h600v-160H180v160Zm220 220h160v-160H400v160Zm0 220h160v-160H400v160ZM180-400h160v-160H180v160Zm440 0h160v-160H620v160ZM180-180h160v-160H180v160Zm440 0h160v-160H620v160Z\"/>\n",
       "  </svg>\n",
       "    </button>\n",
       "\n",
       "  <style>\n",
       "    .colab-df-container {\n",
       "      display:flex;\n",
       "      gap: 12px;\n",
       "    }\n",
       "\n",
       "    .colab-df-convert {\n",
       "      background-color: #E8F0FE;\n",
       "      border: none;\n",
       "      border-radius: 50%;\n",
       "      cursor: pointer;\n",
       "      display: none;\n",
       "      fill: #1967D2;\n",
       "      height: 32px;\n",
       "      padding: 0 0 0 0;\n",
       "      width: 32px;\n",
       "    }\n",
       "\n",
       "    .colab-df-convert:hover {\n",
       "      background-color: #E2EBFA;\n",
       "      box-shadow: 0px 1px 2px rgba(60, 64, 67, 0.3), 0px 1px 3px 1px rgba(60, 64, 67, 0.15);\n",
       "      fill: #174EA6;\n",
       "    }\n",
       "\n",
       "    .colab-df-buttons div {\n",
       "      margin-bottom: 4px;\n",
       "    }\n",
       "\n",
       "    [theme=dark] .colab-df-convert {\n",
       "      background-color: #3B4455;\n",
       "      fill: #D2E3FC;\n",
       "    }\n",
       "\n",
       "    [theme=dark] .colab-df-convert:hover {\n",
       "      background-color: #434B5C;\n",
       "      box-shadow: 0px 1px 3px 1px rgba(0, 0, 0, 0.15);\n",
       "      filter: drop-shadow(0px 1px 2px rgba(0, 0, 0, 0.3));\n",
       "      fill: #FFFFFF;\n",
       "    }\n",
       "  </style>\n",
       "\n",
       "    <script>\n",
       "      const buttonEl =\n",
       "        document.querySelector('#df-834b9a82-22d6-4f27-8292-9e590fcedd47 button.colab-df-convert');\n",
       "      buttonEl.style.display =\n",
       "        google.colab.kernel.accessAllowed ? 'block' : 'none';\n",
       "\n",
       "      async function convertToInteractive(key) {\n",
       "        const element = document.querySelector('#df-834b9a82-22d6-4f27-8292-9e590fcedd47');\n",
       "        const dataTable =\n",
       "          await google.colab.kernel.invokeFunction('convertToInteractive',\n",
       "                                                    [key], {});\n",
       "        if (!dataTable) return;\n",
       "\n",
       "        const docLinkHtml = 'Like what you see? Visit the ' +\n",
       "          '<a target=\"_blank\" href=https://colab.research.google.com/notebooks/data_table.ipynb>data table notebook</a>'\n",
       "          + ' to learn more about interactive tables.';\n",
       "        element.innerHTML = '';\n",
       "        dataTable['output_type'] = 'display_data';\n",
       "        await google.colab.output.renderOutput(dataTable, element);\n",
       "        const docLink = document.createElement('div');\n",
       "        docLink.innerHTML = docLinkHtml;\n",
       "        element.appendChild(docLink);\n",
       "      }\n",
       "    </script>\n",
       "  </div>\n",
       "\n",
       "\n",
       "    <div id=\"df-e1d44014-1afb-4e3e-807f-d8c26003b7aa\">\n",
       "      <button class=\"colab-df-quickchart\" onclick=\"quickchart('df-e1d44014-1afb-4e3e-807f-d8c26003b7aa')\"\n",
       "                title=\"Suggest charts\"\n",
       "                style=\"display:none;\">\n",
       "\n",
       "<svg xmlns=\"http://www.w3.org/2000/svg\" height=\"24px\"viewBox=\"0 0 24 24\"\n",
       "     width=\"24px\">\n",
       "    <g>\n",
       "        <path d=\"M19 3H5c-1.1 0-2 .9-2 2v14c0 1.1.9 2 2 2h14c1.1 0 2-.9 2-2V5c0-1.1-.9-2-2-2zM9 17H7v-7h2v7zm4 0h-2V7h2v10zm4 0h-2v-4h2v4z\"/>\n",
       "    </g>\n",
       "</svg>\n",
       "      </button>\n",
       "\n",
       "<style>\n",
       "  .colab-df-quickchart {\n",
       "      --bg-color: #E8F0FE;\n",
       "      --fill-color: #1967D2;\n",
       "      --hover-bg-color: #E2EBFA;\n",
       "      --hover-fill-color: #174EA6;\n",
       "      --disabled-fill-color: #AAA;\n",
       "      --disabled-bg-color: #DDD;\n",
       "  }\n",
       "\n",
       "  [theme=dark] .colab-df-quickchart {\n",
       "      --bg-color: #3B4455;\n",
       "      --fill-color: #D2E3FC;\n",
       "      --hover-bg-color: #434B5C;\n",
       "      --hover-fill-color: #FFFFFF;\n",
       "      --disabled-bg-color: #3B4455;\n",
       "      --disabled-fill-color: #666;\n",
       "  }\n",
       "\n",
       "  .colab-df-quickchart {\n",
       "    background-color: var(--bg-color);\n",
       "    border: none;\n",
       "    border-radius: 50%;\n",
       "    cursor: pointer;\n",
       "    display: none;\n",
       "    fill: var(--fill-color);\n",
       "    height: 32px;\n",
       "    padding: 0;\n",
       "    width: 32px;\n",
       "  }\n",
       "\n",
       "  .colab-df-quickchart:hover {\n",
       "    background-color: var(--hover-bg-color);\n",
       "    box-shadow: 0 1px 2px rgba(60, 64, 67, 0.3), 0 1px 3px 1px rgba(60, 64, 67, 0.15);\n",
       "    fill: var(--button-hover-fill-color);\n",
       "  }\n",
       "\n",
       "  .colab-df-quickchart-complete:disabled,\n",
       "  .colab-df-quickchart-complete:disabled:hover {\n",
       "    background-color: var(--disabled-bg-color);\n",
       "    fill: var(--disabled-fill-color);\n",
       "    box-shadow: none;\n",
       "  }\n",
       "\n",
       "  .colab-df-spinner {\n",
       "    border: 2px solid var(--fill-color);\n",
       "    border-color: transparent;\n",
       "    border-bottom-color: var(--fill-color);\n",
       "    animation:\n",
       "      spin 1s steps(1) infinite;\n",
       "  }\n",
       "\n",
       "  @keyframes spin {\n",
       "    0% {\n",
       "      border-color: transparent;\n",
       "      border-bottom-color: var(--fill-color);\n",
       "      border-left-color: var(--fill-color);\n",
       "    }\n",
       "    20% {\n",
       "      border-color: transparent;\n",
       "      border-left-color: var(--fill-color);\n",
       "      border-top-color: var(--fill-color);\n",
       "    }\n",
       "    30% {\n",
       "      border-color: transparent;\n",
       "      border-left-color: var(--fill-color);\n",
       "      border-top-color: var(--fill-color);\n",
       "      border-right-color: var(--fill-color);\n",
       "    }\n",
       "    40% {\n",
       "      border-color: transparent;\n",
       "      border-right-color: var(--fill-color);\n",
       "      border-top-color: var(--fill-color);\n",
       "    }\n",
       "    60% {\n",
       "      border-color: transparent;\n",
       "      border-right-color: var(--fill-color);\n",
       "    }\n",
       "    80% {\n",
       "      border-color: transparent;\n",
       "      border-right-color: var(--fill-color);\n",
       "      border-bottom-color: var(--fill-color);\n",
       "    }\n",
       "    90% {\n",
       "      border-color: transparent;\n",
       "      border-bottom-color: var(--fill-color);\n",
       "    }\n",
       "  }\n",
       "</style>\n",
       "\n",
       "      <script>\n",
       "        async function quickchart(key) {\n",
       "          const quickchartButtonEl =\n",
       "            document.querySelector('#' + key + ' button');\n",
       "          quickchartButtonEl.disabled = true;  // To prevent multiple clicks.\n",
       "          quickchartButtonEl.classList.add('colab-df-spinner');\n",
       "          try {\n",
       "            const charts = await google.colab.kernel.invokeFunction(\n",
       "                'suggestCharts', [key], {});\n",
       "          } catch (error) {\n",
       "            console.error('Error during call to suggestCharts:', error);\n",
       "          }\n",
       "          quickchartButtonEl.classList.remove('colab-df-spinner');\n",
       "          quickchartButtonEl.classList.add('colab-df-quickchart-complete');\n",
       "        }\n",
       "        (() => {\n",
       "          let quickchartButtonEl =\n",
       "            document.querySelector('#df-e1d44014-1afb-4e3e-807f-d8c26003b7aa button');\n",
       "          quickchartButtonEl.style.display =\n",
       "            google.colab.kernel.accessAllowed ? 'block' : 'none';\n",
       "        })();\n",
       "      </script>\n",
       "    </div>\n",
       "\n",
       "  <div id=\"id_79d65a7c-43e0-4d4b-ad15-e3aad3d94f46\">\n",
       "    <style>\n",
       "      .colab-df-generate {\n",
       "        background-color: #E8F0FE;\n",
       "        border: none;\n",
       "        border-radius: 50%;\n",
       "        cursor: pointer;\n",
       "        display: none;\n",
       "        fill: #1967D2;\n",
       "        height: 32px;\n",
       "        padding: 0 0 0 0;\n",
       "        width: 32px;\n",
       "      }\n",
       "\n",
       "      .colab-df-generate:hover {\n",
       "        background-color: #E2EBFA;\n",
       "        box-shadow: 0px 1px 2px rgba(60, 64, 67, 0.3), 0px 1px 3px 1px rgba(60, 64, 67, 0.15);\n",
       "        fill: #174EA6;\n",
       "      }\n",
       "\n",
       "      [theme=dark] .colab-df-generate {\n",
       "        background-color: #3B4455;\n",
       "        fill: #D2E3FC;\n",
       "      }\n",
       "\n",
       "      [theme=dark] .colab-df-generate:hover {\n",
       "        background-color: #434B5C;\n",
       "        box-shadow: 0px 1px 3px 1px rgba(0, 0, 0, 0.15);\n",
       "        filter: drop-shadow(0px 1px 2px rgba(0, 0, 0, 0.3));\n",
       "        fill: #FFFFFF;\n",
       "      }\n",
       "    </style>\n",
       "    <button class=\"colab-df-generate\" onclick=\"generateWithVariable('images_records_df')\"\n",
       "            title=\"Generate code using this dataframe.\"\n",
       "            style=\"display:none;\">\n",
       "\n",
       "  <svg xmlns=\"http://www.w3.org/2000/svg\" height=\"24px\"viewBox=\"0 0 24 24\"\n",
       "       width=\"24px\">\n",
       "    <path d=\"M7,19H8.4L18.45,9,17,7.55,7,17.6ZM5,21V16.75L18.45,3.32a2,2,0,0,1,2.83,0l1.4,1.43a1.91,1.91,0,0,1,.58,1.4,1.91,1.91,0,0,1-.58,1.4L9.25,21ZM18.45,9,17,7.55Zm-12,3A5.31,5.31,0,0,0,4.9,8.1,5.31,5.31,0,0,0,1,6.5,5.31,5.31,0,0,0,4.9,4.9,5.31,5.31,0,0,0,6.5,1,5.31,5.31,0,0,0,8.1,4.9,5.31,5.31,0,0,0,12,6.5,5.46,5.46,0,0,0,6.5,12Z\"/>\n",
       "  </svg>\n",
       "    </button>\n",
       "    <script>\n",
       "      (() => {\n",
       "      const buttonEl =\n",
       "        document.querySelector('#id_79d65a7c-43e0-4d4b-ad15-e3aad3d94f46 button.colab-df-generate');\n",
       "      buttonEl.style.display =\n",
       "        google.colab.kernel.accessAllowed ? 'block' : 'none';\n",
       "\n",
       "      buttonEl.onclick = () => {\n",
       "        google.colab.notebook.generateWithVariable('images_records_df');\n",
       "      }\n",
       "      })();\n",
       "    </script>\n",
       "  </div>\n",
       "\n",
       "    </div>\n",
       "  </div>\n"
      ],
      "text/plain": [
       "                                  Image Name  Steering Angle\n",
       "0          images\\DAM-2025-06-21_23-17-0.png        0.000000\n",
       "1          images\\DAM-2025-06-21_23-17-1.png        0.000000\n",
       "2          images\\DAM-2025-06-21_23-17-2.png        0.000000\n",
       "3          images\\DAM-2025-06-21_23-17-3.png        0.000000\n",
       "4          images\\DAM-2025-06-21_23-17-4.png        0.000000\n",
       "...                                      ...             ...\n",
       "19079  images\\DAM-2025-06-22_00-03-19079.png        0.058807\n",
       "19080  images\\DAM-2025-06-22_00-03-19080.png        0.058807\n",
       "19081  images\\DAM-2025-06-22_00-03-19081.png        0.000000\n",
       "19082  images\\DAM-2025-06-22_00-03-19082.png        0.000000\n",
       "19083  images\\DAM-2025-06-22_00-03-19083.png        0.000000\n",
       "\n",
       "[19084 rows x 2 columns]"
      ]
     },
     "execution_count": 8,
     "metadata": {},
     "output_type": "execute_result"
    }
   ],
   "source": [
    "# Cargamos y visualizamos el dataset\n",
    "images_records_df = pd.read_csv('images_data/images_records.csv')\n",
    "images_records_df"
   ]
  },
  {
   "cell_type": "markdown",
   "metadata": {
    "id": "WI253_u2UZ9J"
   },
   "source": [
    "## **Preprocesamientos de los datos**"
   ]
  },
  {
   "cell_type": "markdown",
   "metadata": {
    "id": "yKJyE-1wTQwH"
   },
   "source": [
    "### Data Augmentation - Reforzando el peso en las curvas para balanceo"
   ]
  },
  {
   "cell_type": "code",
   "execution_count": null,
   "metadata": {
    "colab": {
     "base_uri": "https://localhost:8080/"
    },
    "executionInfo": {
     "elapsed": 21,
     "status": "ok",
     "timestamp": 1750607092682,
     "user": {
      "displayName": "Diego Alvarado Marino",
      "userId": "02323363341284917675"
     },
     "user_tz": 360
    },
    "id": "wS2tmlkx4eqy",
    "outputId": "bcfb6f7e-26bc-4529-d621-7e4def3f223b"
   },
   "outputs": [
    {
     "name": "stdout",
     "output_type": "stream",
     "text": [
      "Dataset expandido con curvas reforzadas: 25274 ejemplos\n"
     ]
    }
   ],
   "source": [
    "# Reforzar curvas duplicando ejemplos\n",
    "curve_threshold = 0.5\n",
    "times_to_duplicate = 10\n",
    "\n",
    "left_curves = images_records_df[images_records_df['Steering Angle'] < -curve_threshold]\n",
    "right_curves = images_records_df[images_records_df['Steering Angle'] > curve_threshold]\n",
    "\n",
    "# Duplicar curvas\n",
    "images_records_df = pd.concat(\n",
    "    [images_records_df] + [left_curves, right_curves] * times_to_duplicate,\n",
    "    ignore_index=True\n",
    ")\n",
    "\n",
    "# Mezclar todo el dataset\n",
    "images_records_df = images_records_df.sample(frac=1).reset_index(drop=True)\n",
    "\n",
    "print(f\"Dataset expandido con curvas reforzadas: {len(images_records_df)} ejemplos\")\n"
   ]
  },
  {
   "cell_type": "markdown",
   "metadata": {
    "id": "SwLKHHhAVJyt"
   },
   "source": [
    "### Obtener lista de 'paths' y 'angles'"
   ]
  },
  {
   "cell_type": "code",
   "execution_count": null,
   "metadata": {
    "ExecuteTime": {
     "end_time": "2024-06-22T22:44:35.925344Z",
     "start_time": "2024-06-22T22:44:35.878345Z"
    },
    "colab": {
     "base_uri": "https://localhost:8080/"
    },
    "executionInfo": {
     "elapsed": 210,
     "status": "ok",
     "timestamp": 1750607816783,
     "user": {
      "displayName": "Diego Alvarado Marino",
      "userId": "02323363341284917675"
     },
     "user_tz": 360
    },
    "id": "BtrNsCeTUZ9K",
    "outputId": "c2c3cfc2-cfe7-4084-809d-089dd99ef57f"
   },
   "outputs": [
    {
     "name": "stdout",
     "output_type": "stream",
     "text": [
      "Numero de paths encontrados:  25274\n",
      "Ejemplo de paths: images_data/images/DAM-2025-06-21_23-43-16169.png\n"
     ]
    }
   ],
   "source": [
    "# Extraer la columna 'Image Name' del conjunto de datos y almacenarla en 'paths'\n",
    "base_directory = Path('images_data')\n",
    "paths = images_records_df['Image Name'].apply(lambda x: base_directory / Path(x.replace(\"\\\\\", \"/\")))\n",
    "\n",
    "# Imprimir el número total de rutas de imágenes\n",
    "print(\"Numero de paths encontrados: \", len(paths))\n",
    "\n",
    "# Extraer la columna 'Steering Angle' del conjunto de datos y almacenarla en 'angles'\n",
    "angles = images_records_df[\"Steering Angle\"]\n",
    "\n",
    "print(\"Ejemplo de paths:\", paths[0])"
   ]
  },
  {
   "cell_type": "markdown",
   "metadata": {
    "id": "UeNBXBpmVRaT"
   },
   "source": [
    "### Visualización de imagenes preprocesadas (recortadas y redimensionadas)"
   ]
  },
  {
   "cell_type": "code",
   "execution_count": null,
   "metadata": {
    "ExecuteTime": {
     "end_time": "2024-06-22T22:44:35.940347Z",
     "start_time": "2024-06-22T22:44:35.926344Z"
    },
    "id": "sO0CdXlpUZ9K"
   },
   "outputs": [],
   "source": [
    "def crop_image(ruta, size=False, title=''):\n",
    "\n",
    "    # - Preprocesamiento -\n",
    "    img = cv2.imread(ruta)  # Cargar la imagen desde la ruta especificada\n",
    "    img = img[35:,:,:]  # Recortar la parte superior (35 píxeles)\n",
    "    img = cv2.resize(img, image_size) if size == True else img  # Redimensionar si 'size' está activado\n",
    "    RGB_img = cv2.cvtColor(img, cv2.COLOR_BGR2RGB)  # Convertir de BGR a RGB\n",
    "\n",
    "    # - Plot -\n",
    "    fig = plt.figure(figsize=(4, 5))\n",
    "    ax1 = fig.add_subplot(111)\n",
    "    ax1.set_title(title)\n",
    "    ax1.imshow(RGB_img)  # Mostrar la imagen en formato RGB"
   ]
  },
  {
   "cell_type": "code",
   "execution_count": null,
   "metadata": {
    "ExecuteTime": {
     "end_time": "2024-06-22T22:44:36.081868Z",
     "start_time": "2024-06-22T22:44:35.941346Z"
    },
    "colab": {
     "base_uri": "https://localhost:8080/",
     "height": 203
    },
    "executionInfo": {
     "elapsed": 183,
     "status": "ok",
     "timestamp": 1750607840615,
     "user": {
      "displayName": "Diego Alvarado Marino",
      "userId": "02323363341284917675"
     },
     "user_tz": 360
    },
    "id": "V3UzFPdDUZ9K",
    "outputId": "4a2696ad-7d8a-4dc9-e857-a72b9e15806d"
   },
   "outputs": [
    {
     "name": "stdout",
     "output_type": "stream",
     "text": [
      "images_data/images/DAM-2025-06-22_00-03-18817.png\n"
     ]
    },
    {
     "data": {
      "image/png": "[encoded data removed]",
      "text/plain": [
       "<Figure size 400x500 with 1 Axes>"
      ]
     },
     "metadata": {},
     "output_type": "display_data"
    }
   ],
   "source": [
    "# Muestreo\n",
    "index = random.randrange(0, len(paths))\n",
    "print(paths[index])\n",
    "crop_image(paths[index], title='Muestra de Imagen para Entrenamiento', size=True)"
   ]
  },
  {
   "cell_type": "markdown",
   "metadata": {
    "id": "DXaZCisnUZ9L"
   },
   "source": [
    "### Distribución de Ángulos para Entrenamiento"
   ]
  },
  {
   "cell_type": "code",
   "execution_count": null,
   "metadata": {
    "ExecuteTime": {
     "end_time": "2024-06-22T22:44:36.191851Z",
     "start_time": "2024-06-22T22:44:36.082853Z"
    },
    "colab": {
     "base_uri": "https://localhost:8080/",
     "height": 567
    },
    "executionInfo": {
     "elapsed": 276,
     "status": "ok",
     "timestamp": 1750607981071,
     "user": {
      "displayName": "Diego Alvarado Marino",
      "userId": "02323363341284917675"
     },
     "user_tz": 360
    },
    "id": "BwyCUVpzUZ9L",
    "outputId": "7dcaf91e-ff2c-4d23-9bac-f9b1376bf6d5"
   },
   "outputs": [
    {
     "data": {
      "image/png": "[encoded data removed]",
      "text/plain": [
       "<Figure size 800x600 with 1 Axes>"
      ]
     },
     "metadata": {},
     "output_type": "display_data"
    }
   ],
   "source": [
    "# Plot de distribución de ángulos\n",
    "plt.figure(figsize=(8, 6))\n",
    "plt.hist(angles, bins=25, color='red', edgecolor='black')\n",
    "plt.title('Distribución de Ángulos para Entrenamiento')\n",
    "plt.xlabel(\"Valor\")\n",
    "plt.ylabel(\"Número de Muestras\")\n",
    "plt.grid(True)\n",
    "plt.show()"
   ]
  },
  {
   "cell_type": "markdown",
   "metadata": {
    "id": "0_IUJ9OfUZ9L"
   },
   "source": [
    "## **Obtención de Datasets de Entrenamiento y Prueba**"
   ]
  },
  {
   "cell_type": "code",
   "execution_count": null,
   "metadata": {
    "ExecuteTime": {
     "end_time": "2024-06-22T22:44:50.050396Z",
     "start_time": "2024-06-22T22:44:36.193852Z"
    },
    "colab": {
     "base_uri": "https://localhost:8080/"
    },
    "executionInfo": {
     "elapsed": 12565,
     "status": "ok",
     "timestamp": 1750608299574,
     "user": {
      "displayName": "Diego Alvarado Marino",
      "userId": "02323363341284917675"
     },
     "user_tz": 360
    },
    "id": "BYs6RM9CUZ9L",
    "outputId": "d2f97176-d44a-4d53-ff53-3cd3106aa9a2"
   },
   "outputs": [
    {
     "name": "stdout",
     "output_type": "stream",
     "text": [
      "Shapes del dataset de Entrenamiento:  (22746, 66, 200, 3) (22746,)\n",
      "Shapes del dataset de Prueba: (2528, 66, 200, 3) (2528,)\n"
     ]
    }
   ],
   "source": [
    "# Función para cargar imágenes en una variable\n",
    "def upload_dataset(path_list):\n",
    "\n",
    "    output_list = []\n",
    "    for path in path_list:\n",
    "        img = cv2.imread(path) # Cargar la imagen en formato BGR\n",
    "        img = img[35:,:,:] # Recortar la imagen para eliminar los primeros 35 píxeles\n",
    "        img = cv2.resize(img, image_size) # Redimensionar la imagen según la variable global image_size\n",
    "        output_list.append(img) # Añadir la imagen procesada a la lista de salida\n",
    "    return output_list\n",
    "\n",
    "# Cargar las imágenes en X_train\n",
    "X_train = np.array(upload_dataset(paths))\n",
    "\n",
    "# Dividir el conjunto de datos en conjuntos de entrenamiento y prueba, con un tamaño de prueba del 10%\n",
    "X_train, X_test, y_train, y_test = train_test_split(X_train, angles, test_size=0.1)\n",
    "\n",
    "print('Shapes del dataset de Entrenamiento: ', X_train.shape, y_train.shape)\n",
    "print('Shapes del dataset de Prueba:', X_test.shape, y_test.shape)\n"
   ]
  },
  {
   "cell_type": "code",
   "execution_count": null,
   "metadata": {
    "ExecuteTime": {
     "end_time": "2024-06-22T22:44:50.287456Z",
     "start_time": "2024-06-22T22:44:50.052397Z"
    },
    "colab": {
     "base_uri": "https://localhost:8080/"
    },
    "executionInfo": {
     "elapsed": 377,
     "status": "ok",
     "timestamp": 1750608359467,
     "user": {
      "displayName": "Diego Alvarado Marino",
      "userId": "02323363341284917675"
     },
     "user_tz": 360
    },
    "id": "9YhVD_9mUZ9M",
    "outputId": "d34fa592-e9eb-49d2-dce1-3221b01a266b"
   },
   "outputs": [
    {
     "name": "stdout",
     "output_type": "stream",
     "text": [
      "(66, 200, 3)\n"
     ]
    }
   ],
   "source": [
    "X_train, y_train = shuffle(X_train, y_train) # Revolver los datos\n",
    "print(X_train.shape[1:]) # Dimensión de las imagenes para uso posterior"
   ]
  },
  {
   "cell_type": "markdown",
   "metadata": {
    "id": "oapVIYW2UZ9M"
   },
   "source": [
    "## **Red Neuronal Convolucional (NVIDIA Model)**\n",
    "\n",
    "___"
   ]
  },
  {
   "cell_type": "code",
   "execution_count": null,
   "metadata": {
    "ExecuteTime": {
     "end_time": "2024-06-22T22:44:51.127603Z",
     "start_time": "2024-06-22T22:44:50.290458Z"
    },
    "colab": {
     "base_uri": "https://localhost:8080/",
     "height": 609
    },
    "executionInfo": {
     "elapsed": 1928,
     "status": "ok",
     "timestamp": 1750608791918,
     "user": {
      "displayName": "Diego Alvarado Marino",
      "userId": "02323363341284917675"
     },
     "user_tz": 360
    },
    "id": "6oEdg3ZSUZ9M",
    "outputId": "a30f7169-da06-4f50-8df9-57f82450ad8f"
   },
   "outputs": [
    {
     "name": "stderr",
     "output_type": "stream",
     "text": [
      "/usr/local/lib/python3.11/dist-packages/keras/src/layers/core/lambda_layer.py:65: UserWarning: Do not pass an `input_shape`/`input_dim` argument to a layer. When using Sequential models, prefer using an `Input(shape)` object as the first layer in the model instead.\n",
      "  super().__init__(**kwargs)\n"
     ]
    },
    {
     "data": {
      "text/html": [
       "<pre style=\"white-space:pre;overflow-x:auto;line-height:normal;font-family:Menlo,'DejaVu Sans Mono',consolas,'Courier New',monospace\"><span style=\"font-weight: bold\">Model: \"sequential\"</span>\n",
       "</pre>\n"
      ],
      "text/plain": [
       "\u001b[1mModel: \"sequential\"\u001b[0m\n"
      ]
     },
     "metadata": {},
     "output_type": "display_data"
    },
    {
     "data": {
      "text/html": [
       "<pre style=\"white-space:pre;overflow-x:auto;line-height:normal;font-family:Menlo,'DejaVu Sans Mono',consolas,'Courier New',monospace\">┏━━━━━━━━━━━━━━━━━━━━━━━━━━━━━━━━━┳━━━━━━━━━━━━━━━━━━━━━━━━┳━━━━━━━━━━━━━━━┓\n",
       "┃<span style=\"font-weight: bold\"> Layer (type)                    </span>┃<span style=\"font-weight: bold\"> Output Shape           </span>┃<span style=\"font-weight: bold\">       Param # </span>┃\n",
       "┡━━━━━━━━━━━━━━━━━━━━━━━━━━━━━━━━━╇━━━━━━━━━━━━━━━━━━━━━━━━╇━━━━━━━━━━━━━━━┩\n",
       "│ lambda (<span style=\"color: #0087ff; text-decoration-color: #0087ff\">Lambda</span>)                 │ (<span style=\"color: #00d7ff; text-decoration-color: #00d7ff\">None</span>, <span style=\"color: #00af00; text-decoration-color: #00af00\">66</span>, <span style=\"color: #00af00; text-decoration-color: #00af00\">200</span>, <span style=\"color: #00af00; text-decoration-color: #00af00\">3</span>)     │             <span style=\"color: #00af00; text-decoration-color: #00af00\">0</span> │\n",
       "├─────────────────────────────────┼────────────────────────┼───────────────┤\n",
       "│ conv2d (<span style=\"color: #0087ff; text-decoration-color: #0087ff\">Conv2D</span>)                 │ (<span style=\"color: #00d7ff; text-decoration-color: #00d7ff\">None</span>, <span style=\"color: #00af00; text-decoration-color: #00af00\">31</span>, <span style=\"color: #00af00; text-decoration-color: #00af00\">98</span>, <span style=\"color: #00af00; text-decoration-color: #00af00\">24</span>)     │         <span style=\"color: #00af00; text-decoration-color: #00af00\">1,824</span> │\n",
       "├─────────────────────────────────┼────────────────────────┼───────────────┤\n",
       "│ conv2d_1 (<span style=\"color: #0087ff; text-decoration-color: #0087ff\">Conv2D</span>)               │ (<span style=\"color: #00d7ff; text-decoration-color: #00d7ff\">None</span>, <span style=\"color: #00af00; text-decoration-color: #00af00\">14</span>, <span style=\"color: #00af00; text-decoration-color: #00af00\">47</span>, <span style=\"color: #00af00; text-decoration-color: #00af00\">36</span>)     │        <span style=\"color: #00af00; text-decoration-color: #00af00\">21,636</span> │\n",
       "├─────────────────────────────────┼────────────────────────┼───────────────┤\n",
       "│ conv2d_2 (<span style=\"color: #0087ff; text-decoration-color: #0087ff\">Conv2D</span>)               │ (<span style=\"color: #00d7ff; text-decoration-color: #00d7ff\">None</span>, <span style=\"color: #00af00; text-decoration-color: #00af00\">5</span>, <span style=\"color: #00af00; text-decoration-color: #00af00\">22</span>, <span style=\"color: #00af00; text-decoration-color: #00af00\">48</span>)      │        <span style=\"color: #00af00; text-decoration-color: #00af00\">43,248</span> │\n",
       "├─────────────────────────────────┼────────────────────────┼───────────────┤\n",
       "│ conv2d_3 (<span style=\"color: #0087ff; text-decoration-color: #0087ff\">Conv2D</span>)               │ (<span style=\"color: #00d7ff; text-decoration-color: #00d7ff\">None</span>, <span style=\"color: #00af00; text-decoration-color: #00af00\">3</span>, <span style=\"color: #00af00; text-decoration-color: #00af00\">20</span>, <span style=\"color: #00af00; text-decoration-color: #00af00\">64</span>)      │        <span style=\"color: #00af00; text-decoration-color: #00af00\">27,712</span> │\n",
       "├─────────────────────────────────┼────────────────────────┼───────────────┤\n",
       "│ conv2d_4 (<span style=\"color: #0087ff; text-decoration-color: #0087ff\">Conv2D</span>)               │ (<span style=\"color: #00d7ff; text-decoration-color: #00d7ff\">None</span>, <span style=\"color: #00af00; text-decoration-color: #00af00\">1</span>, <span style=\"color: #00af00; text-decoration-color: #00af00\">18</span>, <span style=\"color: #00af00; text-decoration-color: #00af00\">64</span>)      │        <span style=\"color: #00af00; text-decoration-color: #00af00\">36,928</span> │\n",
       "├─────────────────────────────────┼────────────────────────┼───────────────┤\n",
       "│ dropout (<span style=\"color: #0087ff; text-decoration-color: #0087ff\">Dropout</span>)               │ (<span style=\"color: #00d7ff; text-decoration-color: #00d7ff\">None</span>, <span style=\"color: #00af00; text-decoration-color: #00af00\">1</span>, <span style=\"color: #00af00; text-decoration-color: #00af00\">18</span>, <span style=\"color: #00af00; text-decoration-color: #00af00\">64</span>)      │             <span style=\"color: #00af00; text-decoration-color: #00af00\">0</span> │\n",
       "├─────────────────────────────────┼────────────────────────┼───────────────┤\n",
       "│ flatten (<span style=\"color: #0087ff; text-decoration-color: #0087ff\">Flatten</span>)               │ (<span style=\"color: #00d7ff; text-decoration-color: #00d7ff\">None</span>, <span style=\"color: #00af00; text-decoration-color: #00af00\">1152</span>)           │             <span style=\"color: #00af00; text-decoration-color: #00af00\">0</span> │\n",
       "├─────────────────────────────────┼────────────────────────┼───────────────┤\n",
       "│ dense (<span style=\"color: #0087ff; text-decoration-color: #0087ff\">Dense</span>)                   │ (<span style=\"color: #00d7ff; text-decoration-color: #00d7ff\">None</span>, <span style=\"color: #00af00; text-decoration-color: #00af00\">100</span>)            │       <span style=\"color: #00af00; text-decoration-color: #00af00\">115,300</span> │\n",
       "├─────────────────────────────────┼────────────────────────┼───────────────┤\n",
       "│ dense_1 (<span style=\"color: #0087ff; text-decoration-color: #0087ff\">Dense</span>)                 │ (<span style=\"color: #00d7ff; text-decoration-color: #00d7ff\">None</span>, <span style=\"color: #00af00; text-decoration-color: #00af00\">50</span>)             │         <span style=\"color: #00af00; text-decoration-color: #00af00\">5,050</span> │\n",
       "├─────────────────────────────────┼────────────────────────┼───────────────┤\n",
       "│ dense_2 (<span style=\"color: #0087ff; text-decoration-color: #0087ff\">Dense</span>)                 │ (<span style=\"color: #00d7ff; text-decoration-color: #00d7ff\">None</span>, <span style=\"color: #00af00; text-decoration-color: #00af00\">10</span>)             │           <span style=\"color: #00af00; text-decoration-color: #00af00\">510</span> │\n",
       "├─────────────────────────────────┼────────────────────────┼───────────────┤\n",
       "│ dense_3 (<span style=\"color: #0087ff; text-decoration-color: #0087ff\">Dense</span>)                 │ (<span style=\"color: #00d7ff; text-decoration-color: #00d7ff\">None</span>, <span style=\"color: #00af00; text-decoration-color: #00af00\">1</span>)              │            <span style=\"color: #00af00; text-decoration-color: #00af00\">11</span> │\n",
       "└─────────────────────────────────┴────────────────────────┴───────────────┘\n",
       "</pre>\n"
      ],
      "text/plain": [
       "┏━━━━━━━━━━━━━━━━━━━━━━━━━━━━━━━━━┳━━━━━━━━━━━━━━━━━━━━━━━━┳━━━━━━━━━━━━━━━┓\n",
       "┃\u001b[1m \u001b[0m\u001b[1mLayer (type)                   \u001b[0m\u001b[1m \u001b[0m┃\u001b[1m \u001b[0m\u001b[1mOutput Shape          \u001b[0m\u001b[1m \u001b[0m┃\u001b[1m \u001b[0m\u001b[1m      Param #\u001b[0m\u001b[1m \u001b[0m┃\n",
       "┡━━━━━━━━━━━━━━━━━━━━━━━━━━━━━━━━━╇━━━━━━━━━━━━━━━━━━━━━━━━╇━━━━━━━━━━━━━━━┩\n",
       "│ lambda (\u001b[38;5;33mLambda\u001b[0m)                 │ (\u001b[38;5;45mNone\u001b[0m, \u001b[38;5;34m66\u001b[0m, \u001b[38;5;34m200\u001b[0m, \u001b[38;5;34m3\u001b[0m)     │             \u001b[38;5;34m0\u001b[0m │\n",
       "├─────────────────────────────────┼────────────────────────┼───────────────┤\n",
       "│ conv2d (\u001b[38;5;33mConv2D\u001b[0m)                 │ (\u001b[38;5;45mNone\u001b[0m, \u001b[38;5;34m31\u001b[0m, \u001b[38;5;34m98\u001b[0m, \u001b[38;5;34m24\u001b[0m)     │         \u001b[38;5;34m1,824\u001b[0m │\n",
       "├─────────────────────────────────┼────────────────────────┼───────────────┤\n",
       "│ conv2d_1 (\u001b[38;5;33mConv2D\u001b[0m)               │ (\u001b[38;5;45mNone\u001b[0m, \u001b[38;5;34m14\u001b[0m, \u001b[38;5;34m47\u001b[0m, \u001b[38;5;34m36\u001b[0m)     │        \u001b[38;5;34m21,636\u001b[0m │\n",
       "├─────────────────────────────────┼────────────────────────┼───────────────┤\n",
       "│ conv2d_2 (\u001b[38;5;33mConv2D\u001b[0m)               │ (\u001b[38;5;45mNone\u001b[0m, \u001b[38;5;34m5\u001b[0m, \u001b[38;5;34m22\u001b[0m, \u001b[38;5;34m48\u001b[0m)      │        \u001b[38;5;34m43,248\u001b[0m │\n",
       "├─────────────────────────────────┼────────────────────────┼───────────────┤\n",
       "│ conv2d_3 (\u001b[38;5;33mConv2D\u001b[0m)               │ (\u001b[38;5;45mNone\u001b[0m, \u001b[38;5;34m3\u001b[0m, \u001b[38;5;34m20\u001b[0m, \u001b[38;5;34m64\u001b[0m)      │        \u001b[38;5;34m27,712\u001b[0m │\n",
       "├─────────────────────────────────┼────────────────────────┼───────────────┤\n",
       "│ conv2d_4 (\u001b[38;5;33mConv2D\u001b[0m)               │ (\u001b[38;5;45mNone\u001b[0m, \u001b[38;5;34m1\u001b[0m, \u001b[38;5;34m18\u001b[0m, \u001b[38;5;34m64\u001b[0m)      │        \u001b[38;5;34m36,928\u001b[0m │\n",
       "├─────────────────────────────────┼────────────────────────┼───────────────┤\n",
       "│ dropout (\u001b[38;5;33mDropout\u001b[0m)               │ (\u001b[38;5;45mNone\u001b[0m, \u001b[38;5;34m1\u001b[0m, \u001b[38;5;34m18\u001b[0m, \u001b[38;5;34m64\u001b[0m)      │             \u001b[38;5;34m0\u001b[0m │\n",
       "├─────────────────────────────────┼────────────────────────┼───────────────┤\n",
       "│ flatten (\u001b[38;5;33mFlatten\u001b[0m)               │ (\u001b[38;5;45mNone\u001b[0m, \u001b[38;5;34m1152\u001b[0m)           │             \u001b[38;5;34m0\u001b[0m │\n",
       "├─────────────────────────────────┼────────────────────────┼───────────────┤\n",
       "│ dense (\u001b[38;5;33mDense\u001b[0m)                   │ (\u001b[38;5;45mNone\u001b[0m, \u001b[38;5;34m100\u001b[0m)            │       \u001b[38;5;34m115,300\u001b[0m │\n",
       "├─────────────────────────────────┼────────────────────────┼───────────────┤\n",
       "│ dense_1 (\u001b[38;5;33mDense\u001b[0m)                 │ (\u001b[38;5;45mNone\u001b[0m, \u001b[38;5;34m50\u001b[0m)             │         \u001b[38;5;34m5,050\u001b[0m │\n",
       "├─────────────────────────────────┼────────────────────────┼───────────────┤\n",
       "│ dense_2 (\u001b[38;5;33mDense\u001b[0m)                 │ (\u001b[38;5;45mNone\u001b[0m, \u001b[38;5;34m10\u001b[0m)             │           \u001b[38;5;34m510\u001b[0m │\n",
       "├─────────────────────────────────┼────────────────────────┼───────────────┤\n",
       "│ dense_3 (\u001b[38;5;33mDense\u001b[0m)                 │ (\u001b[38;5;45mNone\u001b[0m, \u001b[38;5;34m1\u001b[0m)              │            \u001b[38;5;34m11\u001b[0m │\n",
       "└─────────────────────────────────┴────────────────────────┴───────────────┘\n"
      ]
     },
     "metadata": {},
     "output_type": "display_data"
    },
    {
     "data": {
      "text/html": [
       "<pre style=\"white-space:pre;overflow-x:auto;line-height:normal;font-family:Menlo,'DejaVu Sans Mono',consolas,'Courier New',monospace\"><span style=\"font-weight: bold\"> Total params: </span><span style=\"color: #00af00; text-decoration-color: #00af00\">252,219</span> (985.23 KB)\n",
       "</pre>\n"
      ],
      "text/plain": [
       "\u001b[1m Total params: \u001b[0m\u001b[38;5;34m252,219\u001b[0m (985.23 KB)\n"
      ]
     },
     "metadata": {},
     "output_type": "display_data"
    },
    {
     "data": {
      "text/html": [
       "<pre style=\"white-space:pre;overflow-x:auto;line-height:normal;font-family:Menlo,'DejaVu Sans Mono',consolas,'Courier New',monospace\"><span style=\"font-weight: bold\"> Trainable params: </span><span style=\"color: #00af00; text-decoration-color: #00af00\">252,219</span> (985.23 KB)\n",
       "</pre>\n"
      ],
      "text/plain": [
       "\u001b[1m Trainable params: \u001b[0m\u001b[38;5;34m252,219\u001b[0m (985.23 KB)\n"
      ]
     },
     "metadata": {},
     "output_type": "display_data"
    },
    {
     "data": {
      "text/html": [
       "<pre style=\"white-space:pre;overflow-x:auto;line-height:normal;font-family:Menlo,'DejaVu Sans Mono',consolas,'Courier New',monospace\"><span style=\"font-weight: bold\"> Non-trainable params: </span><span style=\"color: #00af00; text-decoration-color: #00af00\">0</span> (0.00 B)\n",
       "</pre>\n"
      ],
      "text/plain": [
       "\u001b[1m Non-trainable params: \u001b[0m\u001b[38;5;34m0\u001b[0m (0.00 B)\n"
      ]
     },
     "metadata": {},
     "output_type": "display_data"
    },
    {
     "name": "stdout",
     "output_type": "stream",
     "text": [
      "None\n"
     ]
    }
   ],
   "source": [
    "# === Construcción del Modelo CNN para Behavioral Cloning ===\n",
    "\n",
    "# Inicializar el modelo secuencial\n",
    "model = Sequential()\n",
    "\n",
    "# --- Preprocesamiento --- # Lambda layer para normalizar las imágenes de entrada a [-1, 1] # Esto ayuda a estabilizar y acelerar el entrenamiento (mejor convergencia)\n",
    "model.add(Lambda(lambda x: (x / 127.5) - 1.0, input_shape=(66, 200, 3)))\n",
    "\n",
    "# --- Capas Convolucionales --- # Cada capa extrae características visuales más complejas conforme avanza\n",
    "model.add(Conv2D(24, (5, 5), strides=(2, 2), activation='relu'))  # Capa 1: 24 filtros, tamaño 5x5, stride 2 para reducir resolución (downsampling) - Para detectar patrones simples como bordes o líneas\n",
    "model.add(Conv2D(36, (5, 5), strides=(2, 2), activation='relu'))  # Capa 2: 36 filtros, mismo tamaño y stride - Para aumentar la capacidad para reconocer combinaciones de patrones\n",
    "model.add(Conv2D(48, (5, 5), strides=(2, 2), activation='relu'))  # Capa 3: 48 filtros - Esta capa aprende formas más complejas como curvas y estructuras\n",
    "model.add(Conv2D(64, (3, 3), activation='relu'))  # Capa 4: 64 filtros, tamaño 3x3, sin stride (stride=1 por defecto) - Para mayor detalle en la extracción de características\n",
    "model.add(Conv2D(64, (3, 3), activation='relu'))  # Capa 5: 64 filtros, igual a la anterior - Esta capa refuerza la capacidad para reconocer objetos y contexto local\n",
    "\n",
    "# --- Regularización --- # Dropout aleatoriamente \"apaga\" el 50% de las neuronas durante el entrenamiento # Esto previene el overfitting y mejora la generalización del modelo\n",
    "model.add(Dropout(0.5))\n",
    "\n",
    "# --- Capas Densas --- # Aplanar la salida de las capas convolucionales (de 3D a 1D)\n",
    "model.add(Flatten())\n",
    "\n",
    "model.add(Dense(100, activation='relu'))  # Capa densa 1: 100 neuronas, activación ReLU - combina características extraídas en patrones más globales\n",
    "model.add(Dense(50, activation='relu'))  # Capa densa 2: 50 neuronas - sigue refinando la representación de la imagen\n",
    "model.add(Dense(10, activation='relu'))  # Capa densa 3: 10 neuronas - reduce dimensionalidad antes de la salida final\n",
    "model.add(Dense(1, activation='tanh'))  # Capa de salida: 1 neurona, activación tanh - produce el ángulo de dirección en el rango [-1, 1]\n",
    "\n",
    "# --- Compilación del modelo --- # Optimizador: Adam (adaptativo, funciona bien en práctica) # Learning rate: 0.001 (valor común y seguro para empezar) # Función de pérdida: MSE (adecuado para regresión continua como el ángulo de dirección)\n",
    "model.compile(optimizer=Adam(learning_rate=0.001), loss='mse')\n",
    "\n",
    "# --- Resumen del modelo ---\n",
    "print(model.summary())\n"
   ]
  },
  {
   "cell_type": "markdown",
   "metadata": {
    "id": "CtRzF08JUZ9M"
   },
   "source": [
    "## **Entrenamiento del Modelo y Validación**\n",
    "\n",
    "___"
   ]
  },
  {
   "cell_type": "code",
   "execution_count": null,
   "metadata": {
    "ExecuteTime": {
     "end_time": "2024-06-22T22:45:23.815530Z",
     "start_time": "2024-06-22T22:44:51.129586Z"
    },
    "colab": {
     "base_uri": "https://localhost:8080/"
    },
    "executionInfo": {
     "elapsed": 93727,
     "status": "ok",
     "timestamp": 1750608998645,
     "user": {
      "displayName": "Diego Alvarado Marino",
      "userId": "02323363341284917675"
     },
     "user_tz": 360
    },
    "id": "q8jyEKWCUZ9M",
    "outputId": "a1fe165c-c8a1-49e0-a5ad-a25763e40d72"
   },
   "outputs": [
    {
     "name": "stdout",
     "output_type": "stream",
     "text": [
      "Epoch 1/20\n",
      "\u001b[1m61/61\u001b[0m \u001b[32m━━━━━━━━━━━━━━━━━━━━\u001b[0m\u001b[37m\u001b[0m \u001b[1m20s\u001b[0m 171ms/step - loss: 0.1356 - val_loss: 0.0357\n",
      "Epoch 2/20\n",
      "\u001b[1m61/61\u001b[0m \u001b[32m━━━━━━━━━━━━━━━━━━━━\u001b[0m\u001b[37m\u001b[0m \u001b[1m5s\u001b[0m 41ms/step - loss: 0.0351 - val_loss: 0.0287\n",
      "Epoch 3/20\n",
      "\u001b[1m61/61\u001b[0m \u001b[32m━━━━━━━━━━━━━━━━━━━━\u001b[0m\u001b[37m\u001b[0m \u001b[1m3s\u001b[0m 43ms/step - loss: 0.0289 - val_loss: 0.0225\n",
      "Epoch 4/20\n",
      "\u001b[1m61/61\u001b[0m \u001b[32m━━━━━━━━━━━━━━━━━━━━\u001b[0m\u001b[37m\u001b[0m \u001b[1m3s\u001b[0m 41ms/step - loss: 0.0226 - val_loss: 0.0163\n",
      "Epoch 5/20\n",
      "\u001b[1m61/61\u001b[0m \u001b[32m━━━━━━━━━━━━━━━━━━━━\u001b[0m\u001b[37m\u001b[0m \u001b[1m3s\u001b[0m 41ms/step - loss: 0.0194 - val_loss: 0.0145\n",
      "Epoch 6/20\n",
      "\u001b[1m61/61\u001b[0m \u001b[32m━━━━━━━━━━━━━━━━━━━━\u001b[0m\u001b[37m\u001b[0m \u001b[1m2s\u001b[0m 40ms/step - loss: 0.0174 - val_loss: 0.0146\n",
      "Epoch 7/20\n",
      "\u001b[1m61/61\u001b[0m \u001b[32m━━━━━━━━━━━━━━━━━━━━\u001b[0m\u001b[37m\u001b[0m \u001b[1m3s\u001b[0m 42ms/step - loss: 0.0153 - val_loss: 0.0118\n",
      "Epoch 8/20\n",
      "\u001b[1m61/61\u001b[0m \u001b[32m━━━━━━━━━━━━━━━━━━━━\u001b[0m\u001b[37m\u001b[0m \u001b[1m5s\u001b[0m 43ms/step - loss: 0.0133 - val_loss: 0.0105\n",
      "Epoch 9/20\n",
      "\u001b[1m61/61\u001b[0m \u001b[32m━━━━━━━━━━━━━━━━━━━━\u001b[0m\u001b[37m\u001b[0m \u001b[1m5s\u001b[0m 42ms/step - loss: 0.0119 - val_loss: 0.0099\n",
      "Epoch 10/20\n",
      "\u001b[1m61/61\u001b[0m \u001b[32m━━━━━━━━━━━━━━━━━━━━\u001b[0m\u001b[37m\u001b[0m \u001b[1m5s\u001b[0m 43ms/step - loss: 0.0116 - val_loss: 0.0101\n",
      "Epoch 11/20\n",
      "\u001b[1m61/61\u001b[0m \u001b[32m━━━━━━━━━━━━━━━━━━━━\u001b[0m\u001b[37m\u001b[0m \u001b[1m2s\u001b[0m 40ms/step - loss: 0.0103 - val_loss: 0.0086\n",
      "Epoch 12/20\n",
      "\u001b[1m61/61\u001b[0m \u001b[32m━━━━━━━━━━━━━━━━━━━━\u001b[0m\u001b[37m\u001b[0m \u001b[1m3s\u001b[0m 42ms/step - loss: 0.0097 - val_loss: 0.0080\n",
      "Epoch 13/20\n",
      "\u001b[1m61/61\u001b[0m \u001b[32m━━━━━━━━━━━━━━━━━━━━\u001b[0m\u001b[37m\u001b[0m \u001b[1m5s\u001b[0m 43ms/step - loss: 0.0088 - val_loss: 0.0077\n",
      "Epoch 14/20\n",
      "\u001b[1m61/61\u001b[0m \u001b[32m━━━━━━━━━━━━━━━━━━━━\u001b[0m\u001b[37m\u001b[0m \u001b[1m5s\u001b[0m 42ms/step - loss: 0.0084 - val_loss: 0.0070\n",
      "Epoch 15/20\n",
      "\u001b[1m61/61\u001b[0m \u001b[32m━━━━━━━━━━━━━━━━━━━━\u001b[0m\u001b[37m\u001b[0m \u001b[1m5s\u001b[0m 44ms/step - loss: 0.0085 - val_loss: 0.0071\n",
      "Epoch 16/20\n",
      "\u001b[1m61/61\u001b[0m \u001b[32m━━━━━━━━━━━━━━━━━━━━\u001b[0m\u001b[37m\u001b[0m \u001b[1m3s\u001b[0m 41ms/step - loss: 0.0073 - val_loss: 0.0064\n",
      "Epoch 17/20\n",
      "\u001b[1m61/61\u001b[0m \u001b[32m━━━━━━━━━━━━━━━━━━━━\u001b[0m\u001b[37m\u001b[0m \u001b[1m2s\u001b[0m 41ms/step - loss: 0.0070 - val_loss: 0.0062\n",
      "Epoch 18/20\n",
      "\u001b[1m61/61\u001b[0m \u001b[32m━━━━━━━━━━━━━━━━━━━━\u001b[0m\u001b[37m\u001b[0m \u001b[1m2s\u001b[0m 40ms/step - loss: 0.0069 - val_loss: 0.0065\n",
      "Epoch 19/20\n",
      "\u001b[1m61/61\u001b[0m \u001b[32m━━━━━━━━━━━━━━━━━━━━\u001b[0m\u001b[37m\u001b[0m \u001b[1m3s\u001b[0m 43ms/step - loss: 0.0071 - val_loss: 0.0064\n",
      "Epoch 20/20\n",
      "\u001b[1m61/61\u001b[0m \u001b[32m━━━━━━━━━━━━━━━━━━━━\u001b[0m\u001b[37m\u001b[0m \u001b[1m5s\u001b[0m 42ms/step - loss: 0.0064 - val_loss: 0.0058\n"
     ]
    }
   ],
   "source": [
    "# === Entrenamiento del Modelo con 20 epoch ===\n",
    "history = model.fit(\n",
    "    X_train, y_train,              # Datos de entrada (X) y etiquetas (y)\n",
    "    validation_split=0.2,          # 20% de los datos usados para validación\n",
    "    epochs=20,                     # Número de pasadas completas sobre el conjunto de entrenamiento\n",
    "    batch_size=300,                # Número de muestras por lote de actualización\n",
    "    verbose=1,                     # 1 = muestra barra de progreso durante el entrenamiento\n",
    "    shuffle=True                   # Mezcla los datos antes de cada época (mejora generalización)\n",
    ")"
   ]
  },
  {
   "cell_type": "markdown",
   "metadata": {
    "id": "WmPW4_mBbdT6"
   },
   "source": [
    "### Visualizaciónn de las perdidas"
   ]
  },
  {
   "cell_type": "code",
   "execution_count": null,
   "metadata": {
    "ExecuteTime": {
     "end_time": "2024-06-22T22:45:23.924955Z",
     "start_time": "2024-06-22T22:45:23.818647Z"
    },
    "colab": {
     "base_uri": "https://localhost:8080/",
     "height": 451
    },
    "executionInfo": {
     "elapsed": 296,
     "status": "ok",
     "timestamp": 1750609053158,
     "user": {
      "displayName": "Diego Alvarado Marino",
      "userId": "02323363341284917675"
     },
     "user_tz": 360
    },
    "id": "oXbbzftRUZ9M",
    "outputId": "5fe95962-86db-4fd0-86ec-a1450a01d5f4"
   },
   "outputs": [
    {
     "data": {
      "image/png": "[encoded data removed]",
      "text/plain": [
       "<Figure size 640x480 with 1 Axes>"
      ]
     },
     "metadata": {},
     "output_type": "display_data"
    }
   ],
   "source": [
    "# Extraer historial de entrenamiento\n",
    "history_dict = history.history\n",
    "loss_values = history_dict['loss']\n",
    "val_loss_values = history_dict['val_loss']\n",
    "epochs = range(1, len(loss_values) + 1)\n",
    "\n",
    "# Graficar pérdida de entrenamiento y validación\n",
    "line1 = plt.plot(epochs, val_loss_values, label='Pérdida de Validación', color='red')\n",
    "line2 = plt.plot(epochs, loss_values, label='Pérdida de Entrenamiento', color='blue')\n",
    "\n",
    "plt.setp(line1, linewidth=2.0, marker='o', markersize=4.0)\n",
    "plt.setp(line2, linewidth=2.0, marker='s', markersize=4.0)\n",
    "\n",
    "plt.xlabel('Épocas')\n",
    "plt.ylabel('Pérdida')\n",
    "plt.grid(True)\n",
    "plt.legend()\n",
    "plt.show()\n"
   ]
  },
  {
   "cell_type": "markdown",
   "metadata": {
    "id": "KvU0sS3obzyU"
   },
   "source": [
    "## **Exportarción del Modelo Entrenado**"
   ]
  },
  {
   "cell_type": "code",
   "execution_count": null,
   "metadata": {
    "ExecuteTime": {
     "end_time": "2024-06-22T22:45:24.002798Z",
     "start_time": "2024-06-22T22:45:23.926881Z"
    },
    "colab": {
     "base_uri": "https://localhost:8080/"
    },
    "executionInfo": {
     "elapsed": 65,
     "status": "ok",
     "timestamp": 1750609090757,
     "user": {
      "displayName": "Diego Alvarado Marino",
      "userId": "02323363341284917675"
     },
     "user_tz": 360
    },
    "id": "dbVh4gujUZ9N",
    "outputId": "f1a29fe3-1fbc-4bcd-e2fa-9e55d774f85a"
   },
   "outputs": [
    {
     "name": "stderr",
     "output_type": "stream",
     "text": [
      "WARNING:absl:You are saving your model as an HDF5 file via `model.save()` or `keras.saving.save_model(model)`. This file format is considered legacy. We recommend using instead the native Keras format, e.g. `model.save('my_model.keras')` or `keras.saving.save_model(model, 'my_model.keras')`. \n"
     ]
    }
   ],
   "source": [
    "# Guardar el modelo entrenado\n",
    "model.save(\"../modelos/behavioral_cloning_v5_05_x10_ogcnn.h5\")\n"
   ]
  },
  {
   "cell_type": "markdown",
   "metadata": {
    "id": "GT6jKDQkb7e2"
   },
   "source": [
    "## **Predicción de prueba del Modelo Entrenado**"
   ]
  },
  {
   "cell_type": "code",
   "execution_count": null,
   "metadata": {
    "ExecuteTime": {
     "end_time": "2024-06-22T22:45:24.143139Z",
     "start_time": "2024-06-22T22:45:24.003746Z"
    },
    "id": "YXB_vf4rUZ9N"
   },
   "outputs": [],
   "source": [
    "# Cargar el modelo guardado\n",
    "modelo_entrenado = load_model(\"../modelos/behavioral_cloning_v5_05_x10_ogcnn.h5\", compile=False)\n"
   ]
  },
  {
   "cell_type": "code",
   "execution_count": null,
   "metadata": {
    "ExecuteTime": {
     "end_time": "2024-06-22T22:45:24.376483Z",
     "start_time": "2024-06-22T22:45:24.144192Z"
    },
    "colab": {
     "base_uri": "https://localhost:8080/",
     "height": 245
    },
    "executionInfo": {
     "elapsed": 400,
     "status": "ok",
     "timestamp": 1750609344645,
     "user": {
      "displayName": "Diego Alvarado Marino",
      "userId": "02323363341284917675"
     },
     "user_tz": 360
    },
    "id": "BSk8AAcmUZ9N",
    "outputId": "629584cb-cb89-4e86-fdf4-a048d292d4d1"
   },
   "outputs": [
    {
     "name": "stdout",
     "output_type": "stream",
     "text": [
      "Ruta seleccionada: images_data/images/DAM-2025-06-21_23-43-16175.png\n",
      "\u001b[1m1/1\u001b[0m \u001b[32m━━━━━━━━━━━━━━━━━━━━\u001b[0m\u001b[37m\u001b[0m \u001b[1m0s\u001b[0m 44ms/step\n",
      "Predicción de la red: -0.5413\n",
      "Valor real: -0.6235\n",
      "Error absoluto: 0.0822\n"
     ]
    },
    {
     "data": {
      "image/png": "[encoded data removed]",
      "text/plain": [
       "<Figure size 400x500 with 1 Axes>"
      ]
     },
     "metadata": {},
     "output_type": "display_data"
    }
   ],
   "source": [
    "# Seleccionar aleatoriamente una imagen de prueba\n",
    "idx = random.randint(0, len(paths) - 1)\n",
    "ruta = paths[idx]\n",
    "valor_real = angles[idx]\n",
    "\n",
    "print(f'Ruta seleccionada: {ruta}')\n",
    "crop_image(ruta, title='Imagen')\n",
    "\n",
    "# Preprocesar la imagen para la predicción\n",
    "entrada = np.array(upload_dataset([ruta]))\n",
    "\n",
    "# Realizar la predicción con el modelo entrenado\n",
    "prediccion = modelo_entrenado.predict(entrada)[0][0]\n",
    "\n",
    "# Mostrar resultados\n",
    "print(f'Predicción de la red: {prediccion:.4f}')\n",
    "print(f'Valor real: {valor_real:.4f}')\n",
    "print(f'Error absoluto: {abs(prediccion - valor_real):.4f}')\n"
   ]
  }
 ],
 "metadata": {
  "accelerator": "GPU",
  "colab": {
   "gpuType": "T4",
   "provenance": []
  },
  "kernelspec": {
   "display_name": "Python 3",
   "name": "python3"
  },
  "language_info": {
   "codemirror_mode": {
    "name": "ipython",
    "version": 3
   },
   "file_extension": ".py",
   "mimetype": "text/x-python",
   "name": "python",
   "nbconvert_exporter": "python",
   "pygments_lexer": "ipython3",
   "version": "3.12.0"
  }
 },
 "nbformat": 4,
 "nbformat_minor": 0
}
